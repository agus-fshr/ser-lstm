{
 "cells": [
  {
   "cell_type": "markdown",
   "metadata": {},
   "source": [
    "# Exploratory Data Analysis\n",
    "What the fuck we got goin' on here"
   ]
  },
  {
   "cell_type": "code",
   "execution_count": 1,
   "metadata": {},
   "outputs": [],
   "source": [
    "import os\n",
    "import glob\n",
    "\n",
    "import numpy as np\n",
    "import pandas as pd\n",
    "import librosa\n",
    "import librosa.display\n",
    "import matplotlib.pyplot as plt"
   ]
  },
  {
   "cell_type": "markdown",
   "metadata": {},
   "source": [
    "from zenodo:\n",
    "Filename identifiers \n",
    "\n",
    "- 01 -> Modality (01 = full-AV, 02 = video-only, 03 = audio-only).\n",
    "- 02 -> Vocal channel (01 = speech, 02 = song).\n",
    "- 03 -> Emotion (01 = neutral, 02 = calm, 03 = happy, 04 = sad, 05 = angry, 06 = fearful, 07 = disgust, 08 = surprised).\n",
    "- 04 -> Emotional intensity (01 = normal, 02 = strong). NOTE: There is no strong intensity for the 'neutral' emotion.\n",
    "- 05 -> Statement (01 = \"Kids are talking by the door\", 02 = \"Dogs are sitting by the door\").\n",
    "- 06 -> Repetition (01 = 1st repetition, 02 = 2nd repetition).\n",
    "- 07 -> Actor (01 to 24. Odd numbered actors are male, even numbered actors are female).\n"
   ]
  },
  {
   "cell_type": "code",
   "execution_count": 2,
   "metadata": {},
   "outputs": [],
   "source": [
    "modality = ['full-av', 'video-only', 'audio-only']\n",
    "vocal_channel = ['speech', 'song']\n",
    "emotion = ['neutral', 'calm', 'happy', 'sad', 'angry', 'fearful', 'disgust', 'surprised']\n",
    "intensity = ['normal', 'strong']"
   ]
  },
  {
   "cell_type": "code",
   "execution_count": 7,
   "metadata": {},
   "outputs": [
    {
     "name": "stdout",
     "output_type": "stream",
     "text": [
      "Total samples: 1440\n",
      "Emotions present: ['angry', 'calm', 'disgust', 'fearful', 'happy', 'neutral', 'sad', 'surprised']\n",
      "Counts by emotion:\n",
      "emotion\n",
      "happy        192\n",
      "surprised    192\n",
      "disgust      192\n",
      "calm         192\n",
      "fearful      192\n",
      "sad          192\n",
      "angry        192\n",
      "neutral       96\n",
      "Name: count, dtype: int64\n"
     ]
    }
   ],
   "source": [
    "data_dir = '../data'\n",
    "wav_paths = glob.glob(os.path.join(data_dir, 'Actor_*', '*.wav'))\n",
    "\n",
    "rows = []\n",
    "for p in wav_paths:\n",
    "    fname = os.path.basename(p)\n",
    "    # ravdess goes\n",
    "    # modality - channel - emotion - intensity - statement - repetition - actor\n",
    "    parts = fname.replace('.wav', '').split('-')\n",
    "    rows.append({\n",
    "        'path': p,\n",
    "        'modality': parts[0],\n",
    "        'vocal_channel': parts[1],\n",
    "        'emotion': emotion[int(parts[2])-1],\n",
    "        'intensity': parts[3],\n",
    "        'statement': parts[4],\n",
    "        'repetition': parts[5],\n",
    "        'actor': parts[6]\n",
    "    })\n",
    "\n",
    "meta = pd.DataFrame(rows)\n",
    "print(f\"Total samples: {len(meta)}\")\n",
    "print(\"Emotions present:\", sorted(meta['emotion'].unique()))\n",
    "print(\"Counts by emotion:\")\n",
    "print(meta['emotion'].value_counts())"
   ]
  },
  {
   "cell_type": "code",
   "execution_count": 35,
   "metadata": {},
   "outputs": [
    {
     "data": {
      "text/html": [
       "<div>\n",
       "<style scoped>\n",
       "    .dataframe tbody tr th:only-of-type {\n",
       "        vertical-align: middle;\n",
       "    }\n",
       "\n",
       "    .dataframe tbody tr th {\n",
       "        vertical-align: top;\n",
       "    }\n",
       "\n",
       "    .dataframe thead th {\n",
       "        text-align: right;\n",
       "    }\n",
       "</style>\n",
       "<table border=\"1\" class=\"dataframe\">\n",
       "  <thead>\n",
       "    <tr style=\"text-align: right;\">\n",
       "      <th></th>\n",
       "      <th>path</th>\n",
       "      <th>modality</th>\n",
       "      <th>vocal_channel</th>\n",
       "      <th>emotion</th>\n",
       "      <th>intensity</th>\n",
       "      <th>statement</th>\n",
       "      <th>repetition</th>\n",
       "      <th>actor</th>\n",
       "      <th>duration</th>\n",
       "    </tr>\n",
       "  </thead>\n",
       "  <tbody>\n",
       "    <tr>\n",
       "      <th>0</th>\n",
       "      <td>../data/Actor_07/03-01-03-01-02-01-07.wav</td>\n",
       "      <td>03</td>\n",
       "      <td>01</td>\n",
       "      <td>happy</td>\n",
       "      <td>01</td>\n",
       "      <td>02</td>\n",
       "      <td>01</td>\n",
       "      <td>07</td>\n",
       "      <td>3.403396</td>\n",
       "    </tr>\n",
       "    <tr>\n",
       "      <th>1</th>\n",
       "      <td>../data/Actor_07/03-01-08-02-02-02-07.wav</td>\n",
       "      <td>03</td>\n",
       "      <td>01</td>\n",
       "      <td>surprised</td>\n",
       "      <td>02</td>\n",
       "      <td>02</td>\n",
       "      <td>02</td>\n",
       "      <td>07</td>\n",
       "      <td>3.470125</td>\n",
       "    </tr>\n",
       "    <tr>\n",
       "      <th>2</th>\n",
       "      <td>../data/Actor_07/03-01-08-01-01-02-07.wav</td>\n",
       "      <td>03</td>\n",
       "      <td>01</td>\n",
       "      <td>surprised</td>\n",
       "      <td>01</td>\n",
       "      <td>01</td>\n",
       "      <td>02</td>\n",
       "      <td>07</td>\n",
       "      <td>3.536875</td>\n",
       "    </tr>\n",
       "    <tr>\n",
       "      <th>3</th>\n",
       "      <td>../data/Actor_07/03-01-07-02-01-01-07.wav</td>\n",
       "      <td>03</td>\n",
       "      <td>01</td>\n",
       "      <td>disgust</td>\n",
       "      <td>02</td>\n",
       "      <td>01</td>\n",
       "      <td>01</td>\n",
       "      <td>07</td>\n",
       "      <td>4.137479</td>\n",
       "    </tr>\n",
       "    <tr>\n",
       "      <th>4</th>\n",
       "      <td>../data/Actor_07/03-01-03-01-01-02-07.wav</td>\n",
       "      <td>03</td>\n",
       "      <td>01</td>\n",
       "      <td>happy</td>\n",
       "      <td>01</td>\n",
       "      <td>01</td>\n",
       "      <td>02</td>\n",
       "      <td>07</td>\n",
       "      <td>3.470125</td>\n",
       "    </tr>\n",
       "  </tbody>\n",
       "</table>\n",
       "</div>"
      ],
      "text/plain": [
       "                                        path modality vocal_channel  \\\n",
       "0  ../data/Actor_07/03-01-03-01-02-01-07.wav       03            01   \n",
       "1  ../data/Actor_07/03-01-08-02-02-02-07.wav       03            01   \n",
       "2  ../data/Actor_07/03-01-08-01-01-02-07.wav       03            01   \n",
       "3  ../data/Actor_07/03-01-07-02-01-01-07.wav       03            01   \n",
       "4  ../data/Actor_07/03-01-03-01-01-02-07.wav       03            01   \n",
       "\n",
       "     emotion intensity statement repetition actor  duration  \n",
       "0      happy        01        02         01    07  3.403396  \n",
       "1  surprised        02        02         02    07  3.470125  \n",
       "2  surprised        01        01         02    07  3.536875  \n",
       "3    disgust        02        01         01    07  4.137479  \n",
       "4      happy        01        01         02    07  3.470125  "
      ]
     },
     "execution_count": 35,
     "metadata": {},
     "output_type": "execute_result"
    }
   ],
   "source": [
    "meta.head()"
   ]
  },
  {
   "cell_type": "code",
   "execution_count": 37,
   "metadata": {},
   "outputs": [
    {
     "data": {
      "text/html": [
       "<div>\n",
       "<style scoped>\n",
       "    .dataframe tbody tr th:only-of-type {\n",
       "        vertical-align: middle;\n",
       "    }\n",
       "\n",
       "    .dataframe tbody tr th {\n",
       "        vertical-align: top;\n",
       "    }\n",
       "\n",
       "    .dataframe thead th {\n",
       "        text-align: right;\n",
       "    }\n",
       "</style>\n",
       "<table border=\"1\" class=\"dataframe\">\n",
       "  <thead>\n",
       "    <tr style=\"text-align: right;\">\n",
       "      <th></th>\n",
       "      <th>duration</th>\n",
       "    </tr>\n",
       "  </thead>\n",
       "  <tbody>\n",
       "    <tr>\n",
       "      <th>count</th>\n",
       "      <td>1440.000000</td>\n",
       "    </tr>\n",
       "    <tr>\n",
       "      <th>mean</th>\n",
       "      <td>3.700665</td>\n",
       "    </tr>\n",
       "    <tr>\n",
       "      <th>std</th>\n",
       "      <td>0.336676</td>\n",
       "    </tr>\n",
       "    <tr>\n",
       "      <th>min</th>\n",
       "      <td>2.936271</td>\n",
       "    </tr>\n",
       "    <tr>\n",
       "      <th>25%</th>\n",
       "      <td>3.470146</td>\n",
       "    </tr>\n",
       "    <tr>\n",
       "      <th>50%</th>\n",
       "      <td>3.670333</td>\n",
       "    </tr>\n",
       "    <tr>\n",
       "      <th>75%</th>\n",
       "      <td>3.870542</td>\n",
       "    </tr>\n",
       "    <tr>\n",
       "      <th>max</th>\n",
       "      <td>5.271937</td>\n",
       "    </tr>\n",
       "  </tbody>\n",
       "</table>\n",
       "</div>"
      ],
      "text/plain": [
       "          duration\n",
       "count  1440.000000\n",
       "mean      3.700665\n",
       "std       0.336676\n",
       "min       2.936271\n",
       "25%       3.470146\n",
       "50%       3.670333\n",
       "75%       3.870542\n",
       "max       5.271937"
      ]
     },
     "execution_count": 37,
     "metadata": {},
     "output_type": "execute_result"
    }
   ],
   "source": [
    "def get_duration(path):\n",
    "    return librosa.get_duration(path=path)\n",
    "\n",
    "meta['duration'] = meta['path'].map(get_duration)\n",
    "\n",
    "meta.describe()\n"
   ]
  },
  {
   "cell_type": "code",
   "execution_count": 38,
   "metadata": {},
   "outputs": [
    {
     "name": "stdout",
     "output_type": "stream",
     "text": [
      "path             ../data/Actor_13/03-01-02-01-02-02-13.wav\n",
      "modality                                                03\n",
      "vocal_channel                                           01\n",
      "emotion                                               calm\n",
      "intensity                                               01\n",
      "statement                                               02\n",
      "repetition                                              02\n",
      "actor                                                   13\n",
      "duration                                          2.936271\n",
      "Name: 1435, dtype: object\n"
     ]
    }
   ],
   "source": [
    "# get path with smallest duration\n",
    "print(meta.loc[meta['duration'].idxmin()])"
   ]
  },
  {
   "cell_type": "code",
   "execution_count": 10,
   "metadata": {},
   "outputs": [
    {
     "data": {
      "text/html": [
       "<div>\n",
       "<style scoped>\n",
       "    .dataframe tbody tr th:only-of-type {\n",
       "        vertical-align: middle;\n",
       "    }\n",
       "\n",
       "    .dataframe tbody tr th {\n",
       "        vertical-align: top;\n",
       "    }\n",
       "\n",
       "    .dataframe thead th {\n",
       "        text-align: right;\n",
       "    }\n",
       "</style>\n",
       "<table border=\"1\" class=\"dataframe\">\n",
       "  <thead>\n",
       "    <tr style=\"text-align: right;\">\n",
       "      <th></th>\n",
       "      <th>0</th>\n",
       "      <th>1</th>\n",
       "    </tr>\n",
       "  </thead>\n",
       "  <tbody>\n",
       "    <tr>\n",
       "      <th>count</th>\n",
       "      <td>1440.0</td>\n",
       "      <td>1440.000000</td>\n",
       "    </tr>\n",
       "    <tr>\n",
       "      <th>mean</th>\n",
       "      <td>13.0</td>\n",
       "      <td>116.124306</td>\n",
       "    </tr>\n",
       "    <tr>\n",
       "      <th>std</th>\n",
       "      <td>0.0</td>\n",
       "      <td>10.480955</td>\n",
       "    </tr>\n",
       "    <tr>\n",
       "      <th>min</th>\n",
       "      <td>13.0</td>\n",
       "      <td>92.000000</td>\n",
       "    </tr>\n",
       "    <tr>\n",
       "      <th>25%</th>\n",
       "      <td>13.0</td>\n",
       "      <td>109.000000</td>\n",
       "    </tr>\n",
       "    <tr>\n",
       "      <th>50%</th>\n",
       "      <td>13.0</td>\n",
       "      <td>115.000000</td>\n",
       "    </tr>\n",
       "    <tr>\n",
       "      <th>75%</th>\n",
       "      <td>13.0</td>\n",
       "      <td>121.000000</td>\n",
       "    </tr>\n",
       "    <tr>\n",
       "      <th>max</th>\n",
       "      <td>13.0</td>\n",
       "      <td>165.000000</td>\n",
       "    </tr>\n",
       "  </tbody>\n",
       "</table>\n",
       "</div>"
      ],
      "text/plain": [
       "            0            1\n",
       "count  1440.0  1440.000000\n",
       "mean     13.0   116.124306\n",
       "std       0.0    10.480955\n",
       "min      13.0    92.000000\n",
       "25%      13.0   109.000000\n",
       "50%      13.0   115.000000\n",
       "75%      13.0   121.000000\n",
       "max      13.0   165.000000"
      ]
     },
     "execution_count": 10,
     "metadata": {},
     "output_type": "execute_result"
    }
   ],
   "source": [
    "def get_mfcc(path):\n",
    "    n_mfcc = 13\n",
    "    y, sr = librosa.load(path, sr=16000)\n",
    "    return librosa.feature.mfcc(y=y, sr=sr, n_mfcc=n_mfcc)\n",
    "\n",
    "mfcc_shapes = []\n",
    "\n",
    "for path in meta['path']:\n",
    "    mfcc = get_mfcc(path)\n",
    "    mfcc_shapes.append(mfcc.shape)\n",
    "\n",
    "mfcc_shapes = pd.DataFrame(mfcc_shapes)\n",
    "mfcc_shapes.describe()"
   ]
  },
  {
   "cell_type": "code",
   "execution_count": 11,
   "metadata": {},
   "outputs": [
    {
     "data": {
      "text/html": [
       "<div>\n",
       "<style scoped>\n",
       "    .dataframe tbody tr th:only-of-type {\n",
       "        vertical-align: middle;\n",
       "    }\n",
       "\n",
       "    .dataframe tbody tr th {\n",
       "        vertical-align: top;\n",
       "    }\n",
       "\n",
       "    .dataframe thead th {\n",
       "        text-align: right;\n",
       "    }\n",
       "</style>\n",
       "<table border=\"1\" class=\"dataframe\">\n",
       "  <thead>\n",
       "    <tr style=\"text-align: right;\">\n",
       "      <th></th>\n",
       "      <th>0</th>\n",
       "      <th>1</th>\n",
       "    </tr>\n",
       "  </thead>\n",
       "  <tbody>\n",
       "    <tr>\n",
       "      <th>count</th>\n",
       "      <td>1440.0</td>\n",
       "      <td>1440.000000</td>\n",
       "    </tr>\n",
       "    <tr>\n",
       "      <th>mean</th>\n",
       "      <td>12.0</td>\n",
       "      <td>116.124306</td>\n",
       "    </tr>\n",
       "    <tr>\n",
       "      <th>std</th>\n",
       "      <td>0.0</td>\n",
       "      <td>10.480955</td>\n",
       "    </tr>\n",
       "    <tr>\n",
       "      <th>min</th>\n",
       "      <td>12.0</td>\n",
       "      <td>92.000000</td>\n",
       "    </tr>\n",
       "    <tr>\n",
       "      <th>25%</th>\n",
       "      <td>12.0</td>\n",
       "      <td>109.000000</td>\n",
       "    </tr>\n",
       "    <tr>\n",
       "      <th>50%</th>\n",
       "      <td>12.0</td>\n",
       "      <td>115.000000</td>\n",
       "    </tr>\n",
       "    <tr>\n",
       "      <th>75%</th>\n",
       "      <td>12.0</td>\n",
       "      <td>121.000000</td>\n",
       "    </tr>\n",
       "    <tr>\n",
       "      <th>max</th>\n",
       "      <td>12.0</td>\n",
       "      <td>165.000000</td>\n",
       "    </tr>\n",
       "  </tbody>\n",
       "</table>\n",
       "</div>"
      ],
      "text/plain": [
       "            0            1\n",
       "count  1440.0  1440.000000\n",
       "mean     12.0   116.124306\n",
       "std       0.0    10.480955\n",
       "min      12.0    92.000000\n",
       "25%      12.0   109.000000\n",
       "50%      12.0   115.000000\n",
       "75%      12.0   121.000000\n",
       "max      12.0   165.000000"
      ]
     },
     "execution_count": 11,
     "metadata": {},
     "output_type": "execute_result"
    }
   ],
   "source": [
    "def get_chroma(path):\n",
    "    n_mfcc = 13\n",
    "    y, sr = librosa.load(path, sr=16000)\n",
    "    return librosa.feature.chroma_stft(y=y, sr=sr)\n",
    "\n",
    "chroma_shapes = []\n",
    "\n",
    "for path in meta['path']:\n",
    "    chroma = get_chroma(path)\n",
    "    chroma_shapes.append(chroma.shape)\n",
    "\n",
    "chroma_shapes = pd.DataFrame(chroma_shapes)\n",
    "chroma_shapes.describe()"
   ]
  },
  {
   "cell_type": "code",
   "execution_count": 40,
   "metadata": {},
   "outputs": [
    {
     "name": "stdout",
     "output_type": "stream",
     "text": [
      "MFCC shape: (13, 295)\n"
     ]
    },
    {
     "data": {
      "image/png": "[encoded data removed]",
      "text/plain": [
       "<Figure size 600x300 with 2 Axes>"
      ]
     },
     "metadata": {},
     "output_type": "display_data"
    },
    {
     "name": "stdout",
     "output_type": "stream",
     "text": [
      "Chroma shape: (12, 295)\n"
     ]
    },
    {
     "data": {
      "image/png": "[encoded data removed]",
      "text/plain": [
       "<Figure size 600x300 with 2 Axes>"
      ]
     },
     "metadata": {},
     "output_type": "display_data"
    }
   ],
   "source": [
    "# pick one sample\n",
    "path = meta['path'].iloc[-1]\n",
    "y, sr = librosa.load(path, sr=None)\n",
    "\n",
    "# MFCCs\n",
    "mfcc = librosa.feature.mfcc(y=y, sr=sr, n_mfcc=13)\n",
    "print(\"MFCC shape:\", mfcc.shape)  # (n_mfcc, frames)\n",
    "\n",
    "plt.figure(figsize=(6,3))\n",
    "librosa.display.specshow(mfcc, x_axis='time')\n",
    "plt.colorbar()\n",
    "plt.title('MFCC')\n",
    "plt.show()\n",
    "\n",
    "# Chroma\n",
    "chroma = librosa.feature.chroma_stft(y=y, sr=sr)\n",
    "print(\"Chroma shape:\", chroma.shape)  # (12, frames)\n",
    "\n",
    "plt.figure(figsize=(6,3))\n",
    "librosa.display.specshow(chroma, y_axis='chroma', x_axis='time')\n",
    "plt.colorbar()\n",
    "plt.title('Chroma')\n",
    "plt.show()"
   ]
  },
  {
   "cell_type": "code",
   "execution_count": 14,
   "metadata": {},
   "outputs": [
    {
     "data": {
      "text/plain": [
       "<Figure size 800x400 with 0 Axes>"
      ]
     },
     "metadata": {},
     "output_type": "display_data"
    },
    {
     "data": {
      "image/png": "[encoded data removed]",
      "text/plain": [
       "<Figure size 640x480 with 1 Axes>"
      ]
     },
     "metadata": {},
     "output_type": "display_data"
    }
   ],
   "source": [
    "# for speed: sample a few files per emotion\n",
    "grouped = meta.groupby('emotion').sample(5, random_state=0)\n",
    "\n",
    "mfcc_stats = []\n",
    "for _, row in grouped.iterrows():\n",
    "    y, sr = librosa.load(row['path'], sr=None)\n",
    "    mfcc = librosa.feature.mfcc(y=y, sr=sr, n_mfcc=13)\n",
    "    mfcc_stats.append({\n",
    "        'emotion': row['emotion'],\n",
    "        **{f'mfcc{i+1}_mean': mfcc[i].mean() for i in range(13)}\n",
    "    })\n",
    "mfcc_stats_df = pd.DataFrame(mfcc_stats)\n",
    "\n",
    "# boxplot of, say, mfcc1_mean by emotion\n",
    "plt.figure(figsize=(8,4))\n",
    "mfcc_stats_df.boxplot(column='mfcc1_mean', by='emotion')\n",
    "plt.title('Mean MFCC1 by Emotion')\n",
    "plt.suptitle('')\n",
    "plt.ylabel('MFCC1')\n",
    "plt.show()"
   ]
  },
  {
   "cell_type": "code",
   "execution_count": 21,
   "metadata": {},
   "outputs": [
    {
     "data": {
      "text/plain": [
       "<Figure size 800x400 with 0 Axes>"
      ]
     },
     "metadata": {},
     "output_type": "display_data"
    },
    {
     "data": {
      "image/png": "[encoded data removed]",
      "text/plain": [
       "<Figure size 640x480 with 1 Axes>"
      ]
     },
     "metadata": {},
     "output_type": "display_data"
    }
   ],
   "source": [
    "# for speed: sample a few files per emotion\n",
    "grouped = meta.groupby('emotion').sample(5, random_state=0)\n",
    "\n",
    "chroma_stats = []\n",
    "for _, row in grouped.iterrows():\n",
    "    y, sr = librosa.load(row['path'], sr=None)\n",
    "    chroma = librosa.feature.chroma_stft(y=y, sr=sr, n_chroma=12)\n",
    "    chroma_stats.append({\n",
    "        'emotion': row['emotion'],\n",
    "        **{f'chroma{i+1}_mean': chroma[i].mean() for i in range(12)}\n",
    "    })\n",
    "chroma_stats_df = pd.DataFrame(chroma_stats)\n",
    "\n",
    "# boxplot of, say, mfcc1_mean by emotion\n",
    "plt.figure(figsize=(8,4))\n",
    "chroma_stats_df.boxplot(column='chroma3_mean', by='emotion')\n",
    "plt.title('Mean Chroma1 by Emotion')\n",
    "plt.suptitle('')\n",
    "plt.ylabel('Chroma3')\n",
    "plt.show()"
   ]
  },
  {
   "cell_type": "markdown",
   "metadata": {},
   "source": [
    "# DataLoader\n",
    "I'm gonna make a feature vector with chroma and MFCC data, God willing."
   ]
  },
  {
   "cell_type": "code",
   "execution_count": 22,
   "metadata": {},
   "outputs": [],
   "source": [
    "emotions = sorted(meta['emotion'].unique())\n",
    "emotion2idx = {emo: i for i, emo in enumerate(emotions)}"
   ]
  },
  {
   "cell_type": "code",
   "execution_count": 42,
   "metadata": {},
   "outputs": [
    {
     "name": "stdout",
     "output_type": "stream",
     "text": [
      "Pre-computing features…\n"
     ]
    },
    {
     "name": "stderr",
     "output_type": "stream",
     "text": [
      "100%|██████████| 1440/1440 [01:00<00:00, 23.84it/s]\n"
     ]
    },
    {
     "name": "stdout",
     "output_type": "stream",
     "text": [
      "Done! Cached 1440 samples.\n"
     ]
    }
   ],
   "source": [
    "from tqdm import tqdm  # for progress bar\n",
    "import torch\n",
    "\n",
    "# Hyper-params (must match what you use later)\n",
    "SR = None\n",
    "N_MFCC = 13\n",
    "N_CHROMA = 12\n",
    "\n",
    "# Lists to hold your tensors and labels\n",
    "feats_cache = []\n",
    "labels_cache = []\n",
    "\n",
    "print(\"Pre-computing features…\")\n",
    "for _, row in tqdm(meta.iterrows(), total=len(meta)):\n",
    "    y, sr = librosa.load(row['path'], sr=SR)\n",
    "    mfcc   = librosa.feature.mfcc(y=y, sr=sr, n_mfcc=N_MFCC)\n",
    "    chroma = librosa.feature.chroma_stft(y=y, sr=sr, n_chroma=N_CHROMA)\n",
    "    feats  = np.vstack([mfcc, chroma]).T            # (frames, feat_dim)\n",
    "    tensor = torch.from_numpy(feats).float()\n",
    "    label  = torch.tensor(emotion2idx[row['emotion']], dtype=torch.long)\n",
    "    feats_cache.append(tensor)\n",
    "    labels_cache.append(label)\n",
    "    # print(f\"mfcc: {mfcc.shape}, chroma: {chroma.shape}, label: {row['emotion']}\")\n",
    "\n",
    "# Optionally save to disk for later sessions:\n",
    "torch.save((feats_cache, labels_cache), \"ravdess_feats.pt\")\n",
    "print(\"Done! Cached\", len(feats_cache), \"samples.\")"
   ]
  },
  {
   "cell_type": "markdown",
   "metadata": {},
   "source": [
    "# Cached DataLoader\n",
    "\n",
    "Since I'm baller as fuck I precalculated all the chromosomes and mfcc's and saved it in a file to load later so I don't bog down my poor PC with doing a lot of math all the time"
   ]
  },
  {
   "cell_type": "code",
   "execution_count": 50,
   "metadata": {},
   "outputs": [],
   "source": [
    "import torch\n",
    "from torch.utils.data import Dataset\n",
    "import librosa\n",
    "import numpy as np\n",
    "\n",
    "class CachedRAVDESSDataset(Dataset):\n",
    "    def __init__(self, feats, labels):\n",
    "        self.feats  = feats\n",
    "        self.labels = labels\n",
    "\n",
    "    def __len__(self):\n",
    "        return len(self.feats)\n",
    "\n",
    "    def __getitem__(self, idx):\n",
    "        return self.feats[idx], self.labels[idx]"
   ]
  },
  {
   "cell_type": "code",
   "execution_count": 51,
   "metadata": {},
   "outputs": [],
   "source": [
    "from torch.nn.utils.rnn import pad_sequence\n",
    "\n",
    "def pad_collate(batch):\n",
    "    \"\"\"\n",
    "    batch: list of (feat_tensor [T_i×D], label)\n",
    "    returns:\n",
    "      - feats: (B, T_max, D) padded with zeros\n",
    "      - lengths: (B,) original T_i\n",
    "      - labels: (B,)\n",
    "    \"\"\"\n",
    "    feats, labels = zip(*batch)\n",
    "    lengths = torch.tensor([f.shape[0] for f in feats], dtype=torch.long)\n",
    "    # pad to the max T in this batch\n",
    "    feats_padded = pad_sequence(feats, batch_first=True)  # zeros out the shorter ones\n",
    "    labels = torch.stack(labels)\n",
    "    return feats_padded, lengths, labels"
   ]
  },
  {
   "cell_type": "code",
   "execution_count": 52,
   "metadata": {},
   "outputs": [],
   "source": [
    "from torch.utils.data import DataLoader\n",
    "\n",
    "feats_cache, labels_cache = torch.load(\"ravdess_feats.pt\")\n",
    "\n",
    "# Instantiate dataset & DataLoader\n",
    "dataset = CachedRAVDESSDataset(feats_cache, labels_cache)\n",
    "loader  = DataLoader(\n",
    "    dataset,\n",
    "    batch_size=32,\n",
    "    shuffle=True,\n",
    "    collate_fn=pad_collate,\n",
    "    num_workers=2,\n",
    "    pin_memory=False\n",
    ")"
   ]
  },
  {
   "cell_type": "code",
   "execution_count": 53,
   "metadata": {},
   "outputs": [
    {
     "name": "stdout",
     "output_type": "stream",
     "text": [
      "feats: torch.Size([32, 460, 25])\n",
      "lengths: tensor([291, 329, 460, 363, 316, 360, 329, 313, 351, 345, 279, 341, 298, 329,\n",
      "        410, 370, 326, 385, 410, 398, 348, 291, 335, 313, 385, 326, 420, 338,\n",
      "        348, 366, 351, 376])\n",
      "labels: torch.Size([32])\n"
     ]
    }
   ],
   "source": [
    "for feats, lengths, labels in loader:\n",
    "    print(\"feats:\", feats.shape)    # e.g. (32, T_max, 25)\n",
    "    print(\"lengths:\", lengths)      # e.g. tensor([200, 180, 240, …])\n",
    "    print(\"labels:\", labels.shape)  # (32,)\n",
    "    break"
   ]
  },
  {
   "cell_type": "code",
   "execution_count": null,
   "metadata": {},
   "outputs": [],
   "source": [
    "import torch.nn as nn\n",
    "from torch.nn.utils.rnn import pack_padded_sequence\n",
    "\n",
    "class LSTMClassifier(nn.Module):\n",
    "    def __init__(self,\n",
    "                 input_size: int,\n",
    "                 hidden_size: int,\n",
    "                 num_layers: int,\n",
    "                 num_classes: int,\n",
    "                 bidirectional: bool = True,\n",
    "                 dropout: float = 0.5):\n",
    "        super().__init__()\n",
    "        self.lstm = nn.LSTM(input_size=input_size,\n",
    "                      hidden_size=hidden_size,\n",
    "                      num_layers=num_layers,\n",
    "                      bidirectional=bidirectional,\n",
    "                      batch_first=True,\n",
    "                      dropout=dropout if num_layers > 1 else 0)\n",
    "        self.dropout = nn.Dropout(dropout)\n",
    "        self.fc = nn.Linear(hidden_size * (2 if bidirectional else 1), num_classes)\n",
    "\n",
    "    def forward(self, x, lengths):\n",
    "        packed = pack_padded_sequence(x, lengths, batch_first=True, enforce_sorted=False)\n",
    "        packed_out, (h_n, c_n) = self.lstm(packed)\n",
    "\n",
    "        if self.lstm.bidirectional:\n",
    "            n_layers = self.lstm.num_layers\n",
    "            H = self.lstm.hidden_size\n",
    "            h_n = h_n.view(n_layers, 2, -1, H)\n",
    "            h_fwd = h_n[-1, 0]\n",
    "            h_bwd = h_n[-1, 1]\n",
    "            h = torch.cat([h_fwd, h_bwd], dim=-1)\n",
    "        else:\n",
    "            h = h_n[-1]\n",
    "\n",
    "        out = self.dropout(h)\n",
    "        logits = self.fc(out)\n",
    "        return logits"
   ]
  },
  {
   "cell_type": "code",
   "execution_count": null,
   "metadata": {},
   "outputs": [],
   "source": [
    "import torch.optim as optim\n",
    "\n",
    "def train_epoch(model, loader, criterion, optimizer, device):\n",
    "    model.train()\n",
    "    total_loss, total_correct = 0.0, 0\n",
    "    for feats, lengths, labels in loader:\n",
    "        feats, lengths, labels = feats.to(device), lengths.to(device), labels.to(device)\n",
    "        optimizer.zero_grad()\n",
    "        logits = model(feats, lengths)\n",
    "        loss = criterion(logits, labels)\n",
    "        loss.backward()\n",
    "        optimizer.step()\n",
    "\n",
    "        total_loss += loss.item() * labels.size(0)\n",
    "        preds = logits.argmax(dim=1)\n",
    "        total_correct += (preds == labels).sum().item()\n",
    "\n",
    "    avg_loss = total_loss / len(loader.dataset)\n",
    "    accuracy = total_correct / len(loader.dataset)\n",
    "    return avg_loss, accuracy\n",
    "\n",
    "def eval_epoch(model, loader, criterion, device):\n",
    "    model.eval()\n",
    "    total_loss, total_correct = 0.0, 0\n",
    "    with torch.no_grad():\n",
    "        for feats, lengths, labels in loader:\n",
    "            feats, lengths, labels = feats.to(device), lengths.to(device), labels.to(device)\n",
    "            logits = model(feats, lengths)\n",
    "            loss = criterion(logits, labels)\n",
    "\n",
    "            total_loss += loss.item() * labels.size(0)\n",
    "            preds = logits.argmax(dim=1)\n",
    "            total_correct += (preds == labels).sum().item()\n",
    "\n",
    "    avg_loss = total_loss / len(loader.dataset)\n",
    "    accuracy = total_correct / len(loader.dataset)\n",
    "    return avg_loss, accuracy\n"
   ]
  },
  {
   "cell_type": "code",
   "execution_count": null,
   "metadata": {},
   "outputs": [
    {
     "name": "stdout",
     "output_type": "stream",
     "text": [
      "Epoch 01  Train: loss=2.051, acc=0.144  Val:   loss=1.925, acc=0.221\n",
      "Epoch 02  Train: loss=1.859, acc=0.258  Val:   loss=1.741, acc=0.301\n",
      "Epoch 03  Train: loss=1.804, acc=0.276  Val:   loss=1.704, acc=0.323\n",
      "Epoch 04  Train: loss=1.715, acc=0.301  Val:   loss=1.647, acc=0.330\n",
      "Epoch 05  Train: loss=1.666, acc=0.352  Val:   loss=1.568, acc=0.383\n",
      "Epoch 06  Train: loss=1.623, acc=0.348  Val:   loss=1.520, acc=0.380\n",
      "Epoch 07  Train: loss=1.594, acc=0.360  Val:   loss=1.566, acc=0.378\n",
      "Epoch 08  Train: loss=1.574, acc=0.374  Val:   loss=1.461, acc=0.421\n",
      "Epoch 09  Train: loss=1.577, acc=0.394  Val:   loss=1.555, acc=0.390\n",
      "Epoch 10  Train: loss=1.534, acc=0.398  Val:   loss=1.399, acc=0.433\n",
      "Epoch 11  Train: loss=1.462, acc=0.421  Val:   loss=1.379, acc=0.460\n",
      "Epoch 12  Train: loss=1.447, acc=0.436  Val:   loss=1.349, acc=0.480\n",
      "Epoch 13  Train: loss=1.418, acc=0.455  Val:   loss=1.337, acc=0.501\n",
      "Epoch 14  Train: loss=1.341, acc=0.486  Val:   loss=1.295, acc=0.517\n",
      "Epoch 15  Train: loss=1.291, acc=0.505  Val:   loss=1.164, acc=0.571\n",
      "Epoch 16  Train: loss=1.276, acc=0.510  Val:   loss=1.166, acc=0.569\n",
      "Epoch 17  Train: loss=1.263, acc=0.519  Val:   loss=1.129, acc=0.585\n",
      "Epoch 18  Train: loss=1.219, acc=0.524  Val:   loss=1.134, acc=0.581\n",
      "Epoch 19  Train: loss=1.216, acc=0.560  Val:   loss=1.020, acc=0.635\n",
      "Epoch 20  Train: loss=1.148, acc=0.577  Val:   loss=1.148, acc=0.572\n",
      "Epoch 21  Train: loss=1.174, acc=0.568  Val:   loss=1.046, acc=0.607\n",
      "Epoch 22  Train: loss=1.131, acc=0.577  Val:   loss=1.026, acc=0.618\n",
      "Epoch 23  Train: loss=1.169, acc=0.562  Val:   loss=0.997, acc=0.632\n",
      "Epoch 24  Train: loss=0.993, acc=0.633  Val:   loss=0.878, acc=0.669\n",
      "Epoch 25  Train: loss=0.944, acc=0.653  Val:   loss=0.832, acc=0.679\n",
      "Epoch 26  Train: loss=0.946, acc=0.650  Val:   loss=0.903, acc=0.669\n",
      "Epoch 27  Train: loss=0.900, acc=0.665  Val:   loss=0.876, acc=0.665\n",
      "Epoch 28  Train: loss=0.880, acc=0.676  Val:   loss=0.700, acc=0.746\n",
      "Epoch 29  Train: loss=0.809, acc=0.710  Val:   loss=0.653, acc=0.775\n",
      "Epoch 30  Train: loss=0.786, acc=0.720  Val:   loss=0.646, acc=0.774\n",
      "Best val acc: 0.775\n"
     ]
    }
   ],
   "source": [
    "# 3.1 Hyper-parameters & setup\n",
    "device = torch.device(\"cuda\" if torch.cuda.is_available() else \"cpu\")\n",
    "input_size   = 13 + 12             # MFCCs + Chroma\n",
    "hidden_size  = 128\n",
    "num_layers   = 2\n",
    "num_classes  = len(emotion2idx)\n",
    "lr           = 1e-3\n",
    "batch_size   = 32\n",
    "num_epochs   = 30\n",
    "\n",
    "# 3.2 Instantiate\n",
    "model     = LSTMClassifier(input_size, hidden_size, num_layers, num_classes).to(device)\n",
    "criterion = nn.CrossEntropyLoss()\n",
    "optimizer = optim.Adam(model.parameters(), lr=lr)\n",
    "# optional scheduler:\n",
    "scheduler = optim.lr_scheduler.ReduceLROnPlateau(optimizer,\n",
    "                                                 mode='max',\n",
    "                                                 patience=3,\n",
    "                                                 factor=0.5)\n",
    "\n",
    "# 3.3 Training loop\n",
    "best_val_acc = 0.0\n",
    "for epoch in range(1, num_epochs+1):\n",
    "    train_loss, train_acc = train_epoch(model, loader, criterion, optimizer, device)\n",
    "    val_loss,   val_acc   = eval_epoch(model, loader, criterion, device)  # or a separate val_loader\n",
    "\n",
    "    print(f\"Epoch {epoch:02d}  \"\n",
    "          f\"Train: loss={train_loss:.3f}, acc={train_acc:.3f}  \"\n",
    "          f\"Val:   loss={val_loss:.3f}, acc={val_acc:.3f}\")\n",
    "\n",
    "    # step scheduler on val_acc\n",
    "    scheduler.step(val_acc)\n",
    "\n",
    "    # save best\n",
    "    if val_acc > best_val_acc:\n",
    "        best_val_acc = val_acc\n",
    "        torch.save(model.state_dict(), \"best_lstm_emotion.pth\")\n",
    "\n",
    "print(f\"Best val acc: {best_val_acc:.3f}\")"
   ]
  }
 ],
 "metadata": {
  "kernelspec": {
   "display_name": ".venv",
   "language": "python",
   "name": "python3"
  },
  "language_info": {
   "codemirror_mode": {
    "name": "ipython",
    "version": 3
   },
   "file_extension": ".py",
   "mimetype": "text/x-python",
   "name": "python",
   "nbconvert_exporter": "python",
   "pygments_lexer": "ipython3",
   "version": "3.13.3"
  }
 },
 "nbformat": 4,
 "nbformat_minor": 2
}
